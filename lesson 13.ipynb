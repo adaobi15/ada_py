{
 "cells": [
  {
   "cell_type": "code",
   "execution_count": 1,
   "id": "c0686018",
   "metadata": {},
   "outputs": [
    {
     "name": "stdout",
     "output_type": "stream",
     "text": [
      "Ugochi\n",
      "Adaobi\n",
      "Kamara\n",
      "Joseph\n",
      "False\n",
      "{99, 'Adaobi', 'Kamara', 'Ugochi', 'Joseph'}\n"
     ]
    }
   ],
   "source": [
    "# Set Example\n",
    "myset = {\"Joseph\", \"Adaobi\", \"Kamara\", \"Ugochi\"}\n",
    "\n",
    "# loop through set\n",
    "for a in myset:\n",
    "    print(a)\n",
    "    \n",
    "# checking whether 2 exists in myset\n",
    "print(2 in myset)\n",
    "\n",
    "# adding new element\n",
    "myset.add(99)\n",
    "print(myset)"
   ]
  },
  {
   "cell_type": "code",
   "execution_count": null,
   "id": "99a3c4a6",
   "metadata": {},
   "outputs": [],
   "source": []
  }
 ],
 "metadata": {
  "kernelspec": {
   "display_name": "Python 3 (ipykernel)",
   "language": "python",
   "name": "python3"
  },
  "language_info": {
   "codemirror_mode": {
    "name": "ipython",
    "version": 3
   },
   "file_extension": ".py",
   "mimetype": "text/x-python",
   "name": "python",
   "nbconvert_exporter": "python",
   "pygments_lexer": "ipython3",
   "version": "3.9.7"
  }
 },
 "nbformat": 4,
 "nbformat_minor": 5
}
