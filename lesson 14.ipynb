{
 "cells": [
  {
   "cell_type": "code",
   "execution_count": 1,
   "id": "f4f5c56f",
   "metadata": {},
   "outputs": [
    {
     "name": "stdout",
     "output_type": "stream",
     "text": [
      "Amount is 1020.0\n",
      "Simple Interest is 20.0\n"
     ]
    }
   ],
   "source": [
    "P = 1000\n",
    "R = 1\n",
    "T = 2\n",
    "\n",
    "# simple interest\n",
    "A = (P * ( 1 + ((R / 100.0) * T)))\n",
    "print(\"Amount is\", A)\n",
    "SI = A - P\n",
    "print(\"Simple Interest is\", SI)"
   ]
  },
  {
   "cell_type": "code",
   "execution_count": null,
   "id": "ddb07de2",
   "metadata": {},
   "outputs": [],
   "source": []
  }
 ],
 "metadata": {
  "kernelspec": {
   "display_name": "Python 3 (ipykernel)",
   "language": "python",
   "name": "python3"
  },
  "language_info": {
   "codemirror_mode": {
    "name": "ipython",
    "version": 3
   },
   "file_extension": ".py",
   "mimetype": "text/x-python",
   "name": "python",
   "nbconvert_exporter": "python",
   "pygments_lexer": "ipython3",
   "version": "3.9.7"
  }
 },
 "nbformat": 4,
 "nbformat_minor": 5
}
