{
 "cells": [
  {
   "cell_type": "code",
   "execution_count": 1,
   "id": "700090dd",
   "metadata": {},
   "outputs": [
    {
     "name": "stdout",
     "output_type": "stream",
     "text": [
      "[1, 2, 3, 4, 5]\n",
      "Mouse\n",
      "keyboard\n",
      "Monitor\n",
      "Element at index 3 is: Python Programming\n"
     ]
    }
   ],
   "source": [
    "#list of integers\n",
    "list1 = [1, 2, 3, 4, 5]\n",
    "\n",
    "# prints entire list\n",
    "print(list1)\n",
    "\n",
    "# list of strings\n",
    "lis2 = [\"Mouse\", \"keyboard\", \"Monitor\"]\n",
    "\n",
    "# loop through list elements\n",
    "for x in lis2:\n",
    "    print(x)\n",
    "    \n",
    "# list of mixed typr elements\n",
    "lis3 = [20, \"CSC101\", 15, \"Python Programming\"]\n",
    "\n",
    "'''Print a specific element in list indexes start with zero'''\n",
    "\n",
    "print(\"Element at index 3 is:\",lis3[3])"
   ]
  },
  {
   "cell_type": "code",
   "execution_count": null,
   "id": "92b53a08",
   "metadata": {},
   "outputs": [],
   "source": []
  }
 ],
 "metadata": {
  "kernelspec": {
   "display_name": "Python 3 (ipykernel)",
   "language": "python",
   "name": "python3"
  },
  "language_info": {
   "codemirror_mode": {
    "name": "ipython",
    "version": 3
   },
   "file_extension": ".py",
   "mimetype": "text/x-python",
   "name": "python",
   "nbconvert_exporter": "python",
   "pygments_lexer": "ipython3",
   "version": "3.9.7"
  }
 },
 "nbformat": 4,
 "nbformat_minor": 5
}
