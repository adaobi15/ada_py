{
 "cells": [
  {
   "cell_type": "code",
   "execution_count": 2,
   "id": "76497312",
   "metadata": {},
   "outputs": [],
   "source": [
    "def cic():\n",
    "    r= int(input('please enter the radius'))\n",
    "    import math\n",
    "    return 2*3.143*r\n"
   ]
  },
  {
   "cell_type": "code",
   "execution_count": 4,
   "id": "557e60f4",
   "metadata": {},
   "outputs": [
    {
     "name": "stdout",
     "output_type": "stream",
     "text": [
      "please enter the radius6\n"
     ]
    },
    {
     "data": {
      "text/plain": [
       "37.715999999999994"
      ]
     },
     "execution_count": 4,
     "metadata": {},
     "output_type": "execute_result"
    }
   ],
   "source": [
    "cic()"
   ]
  },
  {
   "cell_type": "code",
   "execution_count": null,
   "id": "2947e65a",
   "metadata": {},
   "outputs": [],
   "source": [
    "def x():\n",
    "    a= int(input('enter digits'))\n",
    "    b= int(input('enter digits'))\n",
    "    c= int(input('enter digits'))\n",
    "    import math\n",
    "    return (-b + (b ** 2 - 4 * a * c) ** 0.5) / 2 * a"
   ]
  },
  {
   "cell_type": "code",
   "execution_count": null,
   "id": "f7413d11",
   "metadata": {},
   "outputs": [],
   "source": [
    "x()"
   ]
  },
  {
   "cell_type": "markdown",
   "id": "1306798d",
   "metadata": {},
   "source": [
    "project 2"
   ]
  },
  {
   "cell_type": "code",
   "execution_count": 46,
   "id": "e781a431",
   "metadata": {},
   "outputs": [
    {
     "name": "stdout",
     "output_type": "stream",
     "text": [
      "present\n"
     ]
    }
   ],
   "source": [
    "def test(name):\n",
    "    student = [\"joseph\", \"ari\",\"kobi\", \"kyle\", \"charles\", \"chichi\",\"lala\",\"fatima\",\"lola\", \"mobi\"]   \n",
    "#for class in student:\n",
    "    if name in student:\n",
    "        print(\"present\")\n",
    "    else:\n",
    "        print(\"absent.\") \n",
    "test(\"joseph\")\n"
   ]
  },
  {
   "cell_type": "code",
   "execution_count": null,
   "id": "42d1d8f5",
   "metadata": {},
   "outputs": [],
   "source": [
    "student = [\"joseph\", \"ari\",\"kobi\", \"kyle\", \"charles\", \"chichi\",\"lala\",\"fatima\",\"lola\", \"mobi\"]\n",
    "def test():\n",
    "    name = input(\"Enter name: \")\n",
    "    if name in student:\n",
    "        print(\"present\")\n",
    "    else:\n",
    "        print(\"absent.\")\n",
    "test()"
   ]
  },
  {
   "cell_type": "markdown",
   "id": "844ae4a3",
   "metadata": {},
   "source": [
    "### project 3"
   ]
  },
  {
   "cell_type": "code",
   "execution_count": null,
   "id": "9a2623e3",
   "metadata": {},
   "outputs": [],
   "source": [
    "def score(name):\n",
    "student = {\"joseph\": 2, \"ari\": 7,\"kobi\": 7, \"kyle\": 14, \"charles\": 13, \"chichi\": 9,\"lala\": 8,\"fatima\": 7,\"lola\": 15, \"mobi\":20, \"kiki\":20}\n",
    "    score = input(\"Enter name:\")\n",
    "         if name in student:\n",
    "        print(\"your score is!\")\n",
    "    else:\n",
    "        print(\"not a student\")\n",
    "        \n",
    "score()"
   ]
  },
  {
   "cell_type": "code",
   "execution_count": 54,
   "id": "75a6f7a3",
   "metadata": {},
   "outputs": [],
   "source": [
    "student = {\"joseph\": 2, \"ari\": 7,\"kobi\": 7, \"kyle\": 14, \"charles\": 13, \"chichi\": 9,\"lala\": 8,\"fatima\": 7,\"lola\": 15, \"mobi\":20, \"kiki\":20}\n",
    "def score():\n",
    "    name = input(\"Enter name:\")\n",
    "    if name in student:\n",
    "        print(student[name])\n",
    "    else:\n",
    "        print(\"not a student\")\n",
    "        "
   ]
  },
  {
   "cell_type": "markdown",
   "id": "8ab81c1e",
   "metadata": {},
   "source": [
    "# project 4"
   ]
  },
  {
   "cell_type": "code",
   "execution_count": 64,
   "id": "78b63bed",
   "metadata": {},
   "outputs": [
    {
     "name": "stdout",
     "output_type": "stream",
     "text": [
      "what is the password?h\n"
     ]
    }
   ],
   "source": [
    "show = \"forever\"\n",
    "def organize():\n",
    "    #answer = False\n",
    "    password = input(\"what is the password?\")\n",
    "    while password != show:\n",
    "        if password == show:\n",
    "            print(\"you have access\")\n",
    "        #answer == True\n",
    "        break\n",
    "    else:\n",
    "        print(\"try again\")\n",
    "organize()"
   ]
  },
  {
   "cell_type": "code",
   "execution_count": 55,
   "id": "b38ceb25",
   "metadata": {},
   "outputs": [
    {
     "name": "stdout",
     "output_type": "stream",
     "text": [
      "what is the password?fkjgbuy\n",
      "try again\n"
     ]
    }
   ],
   "source": [
    "organize()"
   ]
  },
  {
   "cell_type": "code",
   "execution_count": 63,
   "id": "47d6faf6",
   "metadata": {},
   "outputs": [
    {
     "data": {
      "text/plain": [
       "False"
      ]
     },
     "execution_count": 63,
     "metadata": {},
     "output_type": "execute_result"
    }
   ],
   "source": [
    "x=5\n",
    "y=6\n",
    "x!=5"
   ]
  },
  {
   "cell_type": "code",
   "execution_count": 6,
   "id": "623b5efe",
   "metadata": {},
   "outputs": [],
   "source": [
    "show = (\"forever\")\n",
    "def organize():\n",
    "    password = input(\"what is the password?\")\n",
    "    if password in show:\n",
    "        print(\"correct\")\n",
    "    else:\n",
    "        print(\"try again\")"
   ]
  },
  {
   "cell_type": "code",
   "execution_count": 7,
   "id": "10628daf",
   "metadata": {},
   "outputs": [
    {
     "name": "stdout",
     "output_type": "stream",
     "text": [
      "what is the password?forever\n",
      "correct\n"
     ]
    }
   ],
   "source": [
    "organize()"
   ]
  },
  {
   "cell_type": "code",
   "execution_count": null,
   "id": "350b8018",
   "metadata": {},
   "outputs": [],
   "source": []
  }
 ],
 "metadata": {
  "kernelspec": {
   "display_name": "Python 3 (ipykernel)",
   "language": "python",
   "name": "python3"
  },
  "language_info": {
   "codemirror_mode": {
    "name": "ipython",
    "version": 3
   },
   "file_extension": ".py",
   "mimetype": "text/x-python",
   "name": "python",
   "nbconvert_exporter": "python",
   "pygments_lexer": "ipython3",
   "version": "3.9.7"
  }
 },
 "nbformat": 4,
 "nbformat_minor": 5
}
