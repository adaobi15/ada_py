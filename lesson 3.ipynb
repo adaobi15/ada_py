{
 "cells": [
  {
   "cell_type": "code",
   "execution_count": 2,
   "id": "5469a81f",
   "metadata": {},
   "outputs": [
    {
     "name": "stdout",
     "output_type": "stream",
     "text": [
      "Three digit number\n"
     ]
    }
   ],
   "source": [
    "num = 100\n",
    "\n",
    "if 9 < num < 99:\n",
    "    \n",
    "    print(\"Two digit number\")\n",
    "    \n",
    "elif 99 < num < 999:\n",
    "    \n",
    "    print(\"Three digit number\")\n",
    "\n",
    "elif 999 < num < 9999:\n",
    "    \n",
    "    print(\"Four digit number\")\n",
    "    \n",
    "else:\n",
    "       print(\"number is <= 9 0r >= 9999\")"
   ]
  },
  {
   "cell_type": "code",
   "execution_count": null,
   "id": "6c6e15bb",
   "metadata": {},
   "outputs": [],
   "source": []
  }
 ],
 "metadata": {
  "kernelspec": {
   "display_name": "Python 3 (ipykernel)",
   "language": "python",
   "name": "python3"
  },
  "language_info": {
   "codemirror_mode": {
    "name": "ipython",
    "version": 3
   },
   "file_extension": ".py",
   "mimetype": "text/x-python",
   "name": "python",
   "nbconvert_exporter": "python",
   "pygments_lexer": "ipython3",
   "version": "3.9.7"
  }
 },
 "nbformat": 4,
 "nbformat_minor": 5
}
