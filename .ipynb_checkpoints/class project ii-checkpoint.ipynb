{
 "cells": [
  {
   "cell_type": "markdown",
   "id": "6847de48",
   "metadata": {},
   "source": [
    "## Computer Quiz"
   ]
  },
  {
   "cell_type": "code",
   "execution_count": null,
   "id": "95d0aa83",
   "metadata": {},
   "outputs": [],
   "source": []
  },
  {
   "cell_type": "code",
   "execution_count": null,
   "id": "3966d820",
   "metadata": {},
   "outputs": [
    {
     "name": "stdout",
     "output_type": "stream",
     "text": [
      "\n",
      "Question 1\n",
      "who is the father of computer science\n",
      "a. Ali Mohammed   b. Charles  Babbage    c. Donald Knuth    d.Ken Thompson\n"
     ]
    }
   ],
   "source": [
    "print() \n",
    "print(\"Question 1\")\n",
    "print(\"who is the father of computer science\")\n",
    "print(\"a. Ali Mohammed   b. Charles  Babbage    c. Donald Knuth    d.Ken Thompson\")\n",
    "ans = input(\"Answer: \")\n",
    "chance = 3\n",
    "score = 0\n",
    "while chance > 1:\n",
    "    if ans.lower() == \"b\":\n",
    "        chance = 0\n",
    "        score  += 1\n",
    "    else:\n",
    "            print(\"Try again.\")\n",
    "            ans = input(\"Answer: \")\n",
    "            chance -= 1\n",
    "else:\n",
    "    print(\"No more tries\")\n",
    "print()   \n",
    "print(\"Question 2\")\n",
    "print(\"In a computer, most processing takes place in _______?\")\n",
    "print(\"a. CPU   b. hard drive    c. system unit     d. PC\")\n",
    "ans = input(\"Answer: \")\n",
    "chance = 3\n",
    "score = 0\n",
    "while chance > 1:\n",
    "    if ans.lower() == \"a\":\n",
    "        chance = 0\n",
    "        score  += 1\n",
    "    else:\n",
    "            print(\"Try again.\")\n",
    "            ans = input(\"Answer: \")\n",
    "            chance -= 1\n",
    "else:\n",
    "    print(\"No more tries\")\n",
    "    print()    \n",
    "    print(\"Question 3\")\n",
    "print(\"What is FORTRAN?\")\n",
    "print(\"a. Formular Test   b. fortune teller    c. Formula Translation     d. fast track\")\n",
    "ans = input(\"Answer: \")\n",
    "chance = 3\n",
    "score = 0\n",
    "while chance > 1:\n",
    "    if ans.lower() == \"c\":\n",
    "        chance = 0\n",
    "        score  += 1\n",
    "    else:\n",
    "            print(\"Try again.\")\n",
    "            ans = input(\"Answer: \")\n",
    "            chance -= 1\n",
    "else:\n",
    "    print(\"No more tries\")\n",
    "    print(score)"
   ]
  },
  {
   "cell_type": "code",
   "execution_count": null,
   "id": "7b48dbb6",
   "metadata": {},
   "outputs": [],
   "source": []
  }
 ],
 "metadata": {
  "kernelspec": {
   "display_name": "Python 3 (ipykernel)",
   "language": "python",
   "name": "python3"
  },
  "language_info": {
   "codemirror_mode": {
    "name": "ipython",
    "version": 3
   },
   "file_extension": ".py",
   "mimetype": "text/x-python",
   "name": "python",
   "nbconvert_exporter": "python",
   "pygments_lexer": "ipython3",
   "version": "3.9.7"
  }
 },
 "nbformat": 4,
 "nbformat_minor": 5
}
