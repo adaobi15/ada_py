{
 "cells": [
  {
   "cell_type": "code",
   "execution_count": 3,
   "id": "8852beb0",
   "metadata": {},
   "outputs": [
    {
     "name": "stdout",
     "output_type": "stream",
     "text": [
      "Hello Jay\n"
     ]
    }
   ],
   "source": [
    "print(\"Hello Jay\")"
   ]
  },
  {
   "cell_type": "code",
   "execution_count": null,
   "id": "2a8d4884",
   "metadata": {},
   "outputs": [],
   "source": [
    "person = input(\"What's your name\")\n",
    "print('Hello,', person)"
   ]
  },
  {
   "cell_type": "code",
   "execution_count": null,
   "id": "4c598d45",
   "metadata": {},
   "outputs": [],
   "source": [
    "age = 12\n",
    "print(age)"
   ]
  },
  {
   "cell_type": "code",
   "execution_count": null,
   "id": "f49ac871",
   "metadata": {},
   "outputs": [],
   "source": [
    "x = 6\n",
    "y = x * 7\n",
    "print(y)"
   ]
  },
  {
   "cell_type": "code",
   "execution_count": null,
   "id": "ee45b23b",
   "metadata": {},
   "outputs": [],
   "source": [
    "name = 'Adele Joe'\n",
    "print (name)"
   ]
  },
  {
   "cell_type": "code",
   "execution_count": null,
   "id": "c3ff37a3",
   "metadata": {},
   "outputs": [],
   "source": [
    "mango = 5\n",
    "apple = 3\n",
    "apple > mango"
   ]
  },
  {
   "cell_type": "code",
   "execution_count": null,
   "id": "d125d166",
   "metadata": {},
   "outputs": [],
   "source": [
    "mango < apple"
   ]
  }
 ],
 "metadata": {
  "kernelspec": {
   "display_name": "Python 3 (ipykernel)",
   "language": "python",
   "name": "python3"
  },
  "language_info": {
   "codemirror_mode": {
    "name": "ipython",
    "version": 3
   },
   "file_extension": ".py",
   "mimetype": "text/x-python",
   "name": "python",
   "nbconvert_exporter": "python",
   "pygments_lexer": "ipython3",
   "version": "3.9.7"
  }
 },
 "nbformat": 4,
 "nbformat_minor": 5
}
