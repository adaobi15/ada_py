{
 "cells": [
  {
   "cell_type": "code",
   "execution_count": null,
   "id": "f2b5baa3",
   "metadata": {},
   "outputs": [],
   "source": [
    "name = input(\"your name is?\")\n",
    "print(\" \")\n",
    "employee = [\"joseph\", \"ari\",\"kobi\", \"kyle\", \"charles\", \"chichi\"]\n",
    "if name in employee:\n",
    "    print(\" \")\n",
    "    print(\"you can enter\")\n",
    "else:\n",
    "    print(\"please leave.\")"
   ]
  },
  {
   "cell_type": "markdown",
   "id": "c63d21e6",
   "metadata": {},
   "source": [
    "# project 2"
   ]
  },
  {
   "cell_type": "code",
   "execution_count": 3,
   "id": "f4ead9ff",
   "metadata": {},
   "outputs": [
    {
     "name": "stdout",
     "output_type": "stream",
     "text": [
      "your name is?ari\n",
      " \n",
      "you can enter\n"
     ]
    }
   ],
   "source": [
    "name = input(\"your name is?\")\n",
    "print(\" \")\n",
    "employees = [\"joseph\", \"ari\",\"kobi\", \"kyle\", \"charles\", \"chichi\"]\n",
    "#for employee in employees:\n",
    "def veri (name):\n",
    "    if name in employees:\n",
    "        print(\"you can enter\")\n",
    "    else:\n",
    "        print(\"please leave.\")\n",
    "    return\n",
    "veri (name)\n"
   ]
  },
  {
   "cell_type": "code",
   "execution_count": null,
   "id": "7d008548",
   "metadata": {},
   "outputs": [],
   "source": [
    "location = input(\"what location?\")\n",
    "weight = int(input(\"what is the weight?\"))\n",
    "if location == \"PAU\":\n",
    "    if weight < 10:\n",
    "        print (\"#1500\")\n",
    "    else: \n",
    "        print (\"2000\")\n",
    "              \n",
    "elif location:\n",
    "    if location ==\"EPE\":\n",
    "        if weight < 20:\n",
    "            print(\"#4000\")\n",
    "        else:\n",
    "            print (\"#5000\")\n",
    "    \n",
    "else:\n",
    "        print(\"we dont go there\")"
   ]
  },
  {
   "cell_type": "markdown",
   "id": "b32d3ddd",
   "metadata": {},
   "source": [
    "# project 3"
   ]
  },
  {
   "cell_type": "code",
   "execution_count": 4,
   "id": "6de662ed",
   "metadata": {
    "scrolled": true
   },
   "outputs": [
    {
     "name": "stdout",
     "output_type": "stream",
     "text": [
      "what is your jamb score?  344\n",
      " \n",
      "you've passed the first step\n",
      " \n",
      "did you at least have a credit in maths and english and three other subjects in your WAEC?  no\n",
      " \n",
      "thank you for applying, try again next year\n"
     ]
    }
   ],
   "source": [
    "jambscore = int(input(\"what is your jamb score?  \"))\n",
    "print(\" \")\n",
    "if jambscore >= 230:\n",
    "    print(\"you've passed the first step\")\n",
    "else:\n",
    "    print(\"thank you for applying better luck next time\")\n",
    "print(\" \")\n",
    "subject = input(\"did you at least have a credit in maths and english and three other subjects in your WAEC?  \")\n",
    "print(\" \")\n",
    "if subject == \"yes\":\n",
    "    print(\" you passed the first step, wait for an interivew e-mail\")\n",
    "if subject == \"no\":\n",
    "    print(\"thank you for applying, try again next year\")"
   ]
  }
 ],
 "metadata": {
  "kernelspec": {
   "display_name": "Python 3 (ipykernel)",
   "language": "python",
   "name": "python3"
  },
  "language_info": {
   "codemirror_mode": {
    "name": "ipython",
    "version": 3
   },
   "file_extension": ".py",
   "mimetype": "text/x-python",
   "name": "python",
   "nbconvert_exporter": "python",
   "pygments_lexer": "ipython3",
   "version": "3.9.7"
  }
 },
 "nbformat": 4,
 "nbformat_minor": 5
}
