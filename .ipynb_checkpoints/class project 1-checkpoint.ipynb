{
 "cells": [
  {
   "cell_type": "code",
   "execution_count": 1,
   "id": "1e4e132b",
   "metadata": {},
   "outputs": [
    {
     "name": "stdout",
     "output_type": "stream",
     "text": [
      "The value of Karo after swapping: 30\n",
      "The value of Oyinda after swapping: 29\n"
     ]
    }
   ],
   "source": [
    "# Python program to swap two variables\n",
    "\n",
    "Karo = 29\n",
    "Oyinda = 30\n",
    "\n",
    "# To take inputs from the user\n",
    "#Karo = input('Enter value of Karo: ')\n",
    "#OYinda = input('Enter value of Oyinda: ')\n",
    "\n",
    "# create a temporary variable and swap the values\n",
    "temp = Karo\n",
    "Karo = Oyinda\n",
    "Oyinda = temp\n",
    "\n",
    "print('The value of Karo after swapping: {}'.format(Karo))\n",
    "print('The value of Oyinda after swapping: {}'.format(Oyinda))"
   ]
  },
  {
   "cell_type": "code",
   "execution_count": null,
   "id": "dd18f81d",
   "metadata": {},
   "outputs": [],
   "source": []
  }
 ],
 "metadata": {
  "kernelspec": {
   "display_name": "Python 3 (ipykernel)",
   "language": "python",
   "name": "python3"
  },
  "language_info": {
   "codemirror_mode": {
    "name": "ipython",
    "version": 3
   },
   "file_extension": ".py",
   "mimetype": "text/x-python",
   "name": "python",
   "nbconvert_exporter": "python",
   "pygments_lexer": "ipython3",
   "version": "3.9.7"
  }
 },
 "nbformat": 4,
 "nbformat_minor": 5
}
