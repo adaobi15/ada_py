{
 "cells": [
  {
   "cell_type": "markdown",
   "id": "286979d8",
   "metadata": {},
   "source": [
    "# control structures"
   ]
  },
  {
   "cell_type": "markdown",
   "id": "ee01e554",
   "metadata": {},
   "source": [
    "<img src = \"goat.jpg\">\n"
   ]
  },
  {
   "cell_type": "code",
   "execution_count": null,
   "id": "cc5c0c7b",
   "metadata": {},
   "outputs": [],
   "source": [
    "x=[1, 2, 3, 4, \"charles\", \"peter\"]"
   ]
  },
  {
   "cell_type": "code",
   "execution_count": null,
   "id": "ecf86970",
   "metadata": {},
   "outputs": [],
   "source": [
    "x"
   ]
  },
  {
   "cell_type": "code",
   "execution_count": null,
   "id": "72453ed1",
   "metadata": {},
   "outputs": [],
   "source": [
    "x = 5\n",
    "y = 7"
   ]
  },
  {
   "cell_type": "code",
   "execution_count": null,
   "id": "2fb427fd",
   "metadata": {},
   "outputs": [],
   "source": [
    "if x>y:\n",
    "    print(\"X is greater than y\")\n",
    "else:\n",
    "    print(\"X is not greater than y\")"
   ]
  },
  {
   "cell_type": "code",
   "execution_count": null,
   "id": "038e701b",
   "metadata": {},
   "outputs": [],
   "source": [
    "a = 5\n",
    "b = 7\n",
    "c = 10"
   ]
  },
  {
   "cell_type": "code",
   "execution_count": null,
   "id": "cfa7ce68",
   "metadata": {},
   "outputs": [],
   "source": [
    "if a>b+c:\n",
    "    print(\"A is greater\")\n",
    "else:\n",
    "    print(\"A is smaller\")"
   ]
  },
  {
   "cell_type": "code",
   "execution_count": null,
   "id": "acbcadf0",
   "metadata": {},
   "outputs": [],
   "source": [
    "num = 22\n",
    "if num % 2 == 0:\n",
    "    print(\"Even Number\")\n",
    "else:\n",
    "    print(\"Odd Number\")"
   ]
  },
  {
   "cell_type": "code",
   "execution_count": null,
   "id": "48723fce",
   "metadata": {},
   "outputs": [],
   "source": [
    "10%2\n"
   ]
  },
  {
   "cell_type": "code",
   "execution_count": null,
   "id": "17ca649c",
   "metadata": {},
   "outputs": [],
   "source": [
    "G = 15\n",
    "H = 7"
   ]
  },
  {
   "cell_type": "code",
   "execution_count": null,
   "id": "540ed447",
   "metadata": {},
   "outputs": [],
   "source": [
    "if 15*7 == even\n",
    "    print(\"even\")\n",
    "else:\n",
    "    print(\"odd\")"
   ]
  },
  {
   "cell_type": "code",
   "execution_count": null,
   "id": "78b9bb1a",
   "metadata": {},
   "outputs": [],
   "source": [
    "G = 15\n",
    "H = 7\n",
    "Y = G*H\n",
    "if Y % 2 ==0:\n",
    "    print(\"even\")\n",
    "else:\n",
    "    print(\"odd\")"
   ]
  },
  {
   "cell_type": "code",
   "execution_count": null,
   "id": "6cb47503",
   "metadata": {},
   "outputs": [],
   "source": [
    "x = 2\n",
    "y = 16\n",
    "z = 25"
   ]
  },
  {
   "cell_type": "code",
   "execution_count": null,
   "id": "07e1b891",
   "metadata": {},
   "outputs": [],
   "source": [
    "if x>y+z:\n",
    "    print(\"X is greater\")\n",
    "elif y>x+z:\n",
    "    print(\"Y is greater\")\n",
    "elif z>x+y:\n",
    "    print(\"Z is greater\")\n",
    "    \n",
    "else:\n",
    "    print (\"None is greater\")"
   ]
  },
  {
   "cell_type": "code",
   "execution_count": null,
   "id": "fb27d72f",
   "metadata": {},
   "outputs": [],
   "source": [
    "num = 1000\n",
    "if 10 < num < 99:\n",
    "    print(\"Two digit number\")\n",
    "elif 100 = num <= 900:\n",
    "    print(\"three digit number\")\n",
    "elif 1000 = num  => 2000:\n",
    "    print(\"four digit number\")\n",
    "elif 4000 = num => 8000:\n",
    "    print(\"four digit number\")\n",
    "    \n",
    "else :\n",
    "    print(\"number is <= 10 or => 8000\")"
   ]
  },
  {
   "cell_type": "code",
   "execution_count": null,
   "id": "22f2ef42",
   "metadata": {},
   "outputs": [],
   "source": [
    "num = -99\n",
    "if num > 0:\n",
    "    print(\"postive number\")\n",
    "elif -99 <= num:\n",
    "    print(\"Two digit negative number\")\n",
    "    \n",
    "else:\n",
    "    print(\"negative number\")"
   ]
  },
  {
   "cell_type": "code",
   "execution_count": null,
   "id": "66eaa6a0",
   "metadata": {},
   "outputs": [],
   "source": [
    "temperature = int(input(\"what is the temperature in Celsius\"))\n",
    "if temperature > 40:\n",
    "    print(\"It is hot outside\")\n",
    "print(\"Done\")"
   ]
  },
  {
   "cell_type": "code",
   "execution_count": null,
   "id": "bde7c845",
   "metadata": {},
   "outputs": [],
   "source": [
    "userName = input(\"what is your name? \")\n",
    "if userName == \"Joseph\":\n",
    "    print(\"You have a very nice name.\")\n",
    "else:\n",
    "    print(\"Your name is ok.\")"
   ]
  },
  {
   "cell_type": "code",
   "execution_count": null,
   "id": "5a8df457",
   "metadata": {},
   "outputs": [],
   "source": [
    "temperature = int(input(\"What is the temperature in Celsius? \"))\n",
    "if temperature > 25:\n",
    "    print(\"It is hot outside\")\n",
    "else:\n",
    "    print(\"It is not hot outside\")\n",
    "print(\"Done\")"
   ]
  },
  {
   "cell_type": "code",
   "execution_count": null,
   "id": "c006296c",
   "metadata": {},
   "outputs": [],
   "source": [
    "a = 33\n",
    "b = 33\n",
    "if b > a:\n",
    "    print(\"b is greater than a \")\n",
    "else:\n",
    "    print(\" a and b are equal\")"
   ]
  },
  {
   "cell_type": "code",
   "execution_count": null,
   "id": "9b7871e1",
   "metadata": {},
   "outputs": [],
   "source": [
    "temperature = int(input(\"what is the temperature in celsius\"))\n",
    "if temperature > 90:\n",
    "    print(\"It is hot outside\")\n",
    "elif temperature < 30:\n",
    "    print(\"it is cold outside\")\n",
    "else:\n",
    "    print(\"it is not hot outside\")\n",
    "print(\"Done\")"
   ]
  },
  {
   "cell_type": "code",
   "execution_count": null,
   "id": "9e521213",
   "metadata": {},
   "outputs": [],
   "source": [
    "x = 41\n",
    "if x > 10:\n",
    "    print(\"above 10\")\n",
    "    if x > 20:\n",
    "        print(\"and it is above 20 too\")\n",
    "    else:\n",
    "        print(\"but not above 20\")"
   ]
  },
  {
   "cell_type": "code",
   "execution_count": null,
   "id": "1bef8c97",
   "metadata": {},
   "outputs": [],
   "source": [
    "# program to print squares of all numbers present in a list\n",
    "# list of integer numbers\n",
    "numbers = [ 1, 2, 3, 4, 6, 11, 20]\n",
    "# variable to store the square of each num temporary\n",
    "sq = 0\n",
    "# iterating over a given list\n",
    "for val in numbers:# calculating square of each number\n",
    "    sq = val * val\n",
    "    # displaying the squares\n",
    "    print(sq)"
   ]
  },
  {
   "cell_type": "code",
   "execution_count": null,
   "id": "584c92ed",
   "metadata": {},
   "outputs": [],
   "source": [
    "# Print the numbers 0 to 9 \n",
    "for i in range(10):\n",
    "    print(i)\n",
    "    \n",
    "# Two ways to print the numbers 1 to 10\n",
    "for i in range(1,11):\n",
    "    print(i)\n",
    "    \n",
    "for i in range(10):\n",
    "    print(i + 1)\n",
    "    \n",
    "# Two ways to print the even numbers 2 to 10\n",
    "for i in range (2, 12, 2):\n",
    "    print(i)\n",
    "    \n",
    "for i in range(5):\n",
    "    print(((i + 1) * 2))\n",
    "    "
   ]
  },
  {
   "cell_type": "code",
   "execution_count": null,
   "id": "d0049883",
   "metadata": {},
   "outputs": [],
   "source": [
    "# A while loop can be used anywhere a for loop is used\n",
    "i = 0\n",
    "while i < 10:\n",
    "    print(i)\n",
    "    i = i + 1\n",
    "    \n",
    "# This can be done with subtraction, and multipication as well\n",
    "i = 0\n",
    "while i < 10:\n",
    "    print(i)\n",
    "    i += 1\n"
   ]
  },
  {
   "cell_type": "code",
   "execution_count": null,
   "id": "96703d63",
   "metadata": {},
   "outputs": [],
   "source": [
    "# There may be several ways for a loop to quite. Using a Boolean to trigger the event is a way of handling that.\n",
    "\n",
    "done = False\n",
    "while not done:\n",
    "    quit = input(\"Do you want to quit? \")\n",
    "    if  quit == \"y\":\n",
    "        done = True\n",
    "        \n",
    "    attack = input(\"Does your elf attach the dragon? \")\n",
    "    if attack == \"y\":\n",
    "        print(\"Bad choice, you died.\")\n",
    "        done = True\n",
    "        "
   ]
  },
  {
   "cell_type": "code",
   "execution_count": null,
   "id": "8d374c6d",
   "metadata": {},
   "outputs": [],
   "source": [
    "def check_guess(guess, answer):\n",
    "    global source\n",
    "    still_guessing = True\n",
    "    attempt = 0\n",
    "    while still_guessing and attempt < 3:\n",
    "        if guess.lower() == answer.lower():\n",
    "            print('correct answer')\n",
    "            score = score + 1\n",
    "            still_guessing = False\n",
    "        else:\n",
    "            if attempt < 2:\n",
    "                guess = input('Sorry wrong answer. Try again.')\n",
    "                attempt = attempt + 1\n",
    "            if attempt == 3:\n",
    "                print('the correct answer is ' + answer)"
   ]
  },
  {
   "cell_type": "code",
   "execution_count": null,
   "id": "d450a741",
   "metadata": {},
   "outputs": [],
   "source": [
    "score = 0\n",
    "\n",
    "print('Guess the Computer Quiz!')\n",
    "guess1 = input('Which component controls the computer functions and transmits data?')\n",
    "Check_guess(guess1, 'CPU')\n",
    "guess2 = input('what is the meaning of ASCII? ')\n",
    "Check_guess(guess2, 'American Standard Code for Information Interchange')\n",
    "guess3 = input('which software helps to load the basic program automatically as soon as the computer is started?')\n",
    "Check_guess(guess3, 'Operating System')\n",
    "\n",
    "print('Your score is' + str(score))"
   ]
  },
  {
   "cell_type": "code",
   "execution_count": null,
   "id": "63d5ca3d",
   "metadata": {
    "scrolled": true
   },
   "outputs": [],
   "source": [
    "from math import sqrt\n",
    "\n",
    "print(\"Quadratic function : (a * x^2) + b*x + c\")\n",
    "a = float(input(\"a: \"))\n",
    "b = float(input(\"b: \"))\n",
    "c = float(input(\"c: \"))\n",
    "\n",
    "r = b**2 - 4*a*c\n",
    "\n",
    "if r > 0:\n",
    "    num_roots = 2\n",
    "    x1 = (((-b) + sqrt(r))/(2*a))     \n",
    "    x2 = (((-b) - sqrt(r))/(2*a))\n",
    "    print(\"There are 2 roots: %f and %f\" % (x1, x2))\n",
    "elif r == 0:\n",
    "    num_roots = 1\n",
    "    x = (-b) / 2*a\n",
    "    print(\"There is one root: \", x)\n",
    "else:\n",
    "    num_roots = 0\n",
    "    print(\"No roots, discriminant < 0.\")\n",
    "    exit()\n"
   ]
  },
  {
   "cell_type": "markdown",
   "id": "d51af082",
   "metadata": {},
   "source": [
    "## NINE LIVES GAMES"
   ]
  },
  {
   "cell_type": "code",
   "execution_count": null,
   "id": "e6db6f98",
   "metadata": {},
   "outputs": [],
   "source": [
    "import random\n",
    "lives = 9\n",
    "words = ['lanes', 'tried', 'loved', 'blamed','Scene','cults','count','blog']\n",
    "secret_word = random.choice(words)\n",
    "clue = list('?????')\n",
    "heart_symbol = u'\\u2764'\n",
    "guessed_word_correctly = False\n",
    "         \n",
    "def update_clue(guesses_letter, secret_word, clue):\n",
    "    index = 0\n",
    "    while index < len(secret_word):\n",
    "         if guessed_letter == secret_word[index]:\n",
    "            clue[index] = guessed_letter\n",
    "        index = index + 1\n"
   ]
  },
  {
   "cell_type": "code",
   "execution_count": 1,
   "id": "e920023d",
   "metadata": {},
   "outputs": [
    {
     "name": "stdout",
     "output_type": "stream",
     "text": [
      "choose difficulty (type 1, 2, or 3): \n",
      " 1 Easy \n",
      " 2 Normal\n",
      " 3 hard\n",
      "1\n"
     ]
    },
    {
     "ename": "NameError",
     "evalue": "name 'clue' is not defined",
     "output_type": "error",
     "traceback": [
      "\u001b[1;31m---------------------------------------------------------------------------\u001b[0m",
      "\u001b[1;31mNameError\u001b[0m                                 Traceback (most recent call last)",
      "\u001b[1;32m~\\AppData\\Local\\Temp/ipykernel_6696/3194223366.py\u001b[0m in \u001b[0;36m<module>\u001b[1;34m\u001b[0m\n\u001b[0;32m     10\u001b[0m \u001b[1;33m\u001b[0m\u001b[0m\n\u001b[0;32m     11\u001b[0m \u001b[1;32mwhile\u001b[0m \u001b[0mlives\u001b[0m \u001b[1;33m>\u001b[0m \u001b[1;36m0\u001b[0m\u001b[1;33m:\u001b[0m\u001b[1;33m\u001b[0m\u001b[1;33m\u001b[0m\u001b[0m\n\u001b[1;32m---> 12\u001b[1;33m     \u001b[0mprint\u001b[0m \u001b[1;33m(\u001b[0m\u001b[0mclue\u001b[0m\u001b[1;33m)\u001b[0m\u001b[1;33m\u001b[0m\u001b[1;33m\u001b[0m\u001b[0m\n\u001b[0m\u001b[0;32m     13\u001b[0m     \u001b[0mprint\u001b[0m\u001b[1;33m(\u001b[0m\u001b[1;34m'lives left: '\u001b[0m  \u001b[1;33m+\u001b[0m \u001b[0mheart_symbol\u001b[0m \u001b[1;33m*\u001b[0m \u001b[0mlives\u001b[0m\u001b[1;33m)\u001b[0m\u001b[1;33m\u001b[0m\u001b[1;33m\u001b[0m\u001b[0m\n\u001b[0;32m     14\u001b[0m     \u001b[0mguess\u001b[0m \u001b[1;33m=\u001b[0m \u001b[0minput\u001b[0m\u001b[1;33m(\u001b[0m\u001b[1;34m'Guess a letter or the whole word'\u001b[0m\u001b[1;33m)\u001b[0m\u001b[1;33m\u001b[0m\u001b[1;33m\u001b[0m\u001b[0m\n",
      "\u001b[1;31mNameError\u001b[0m: name 'clue' is not defined"
     ]
    }
   ],
   "source": [
    "        \n",
    "difficulty = input('choose difficulty (type 1, 2, or 3): \\n 1 Easy \\n 2 Normal\\n 3 hard\\n')\n",
    "difficulty = int(difficulty)\n",
    "\n",
    "if difficulty == 1:\n",
    "    lives = 6\n",
    "elif difficulty == 12:\n",
    "    lives = 9\n",
    "else:\n",
    "    lives = 12\n",
    "    \n",
    "while lives > 0:\n",
    "    print (clue)\n",
    "    print('lives left: '  + heart_symbol * lives)\n",
    "    guess = input('Guess a letter or the whole word')"
   ]
  },
  {
   "cell_type": "code",
   "execution_count": 5,
   "id": "6a49428e",
   "metadata": {},
   "outputs": [
    {
     "ename": "IndentationError",
     "evalue": "unindent does not match any outer indentation level (<tokenize>, line 5)",
     "output_type": "error",
     "traceback": [
      "\u001b[1;36m  File \u001b[1;32m\"<tokenize>\"\u001b[1;36m, line \u001b[1;32m5\u001b[0m\n\u001b[1;33m    if guess in secret_word:\u001b[0m\n\u001b[1;37m    ^\u001b[0m\n\u001b[1;31mIndentationError\u001b[0m\u001b[1;31m:\u001b[0m unindent does not match any outer indentation level\n"
     ]
    }
   ],
   "source": [
    "if guess == secret_word:\n",
    "         guessed_word_correctly = True\n",
    "         break\n",
    "        \n",
    "    if guess in secret_word:\n",
    "        update_clue(guess, secret_word, clue)\n",
    "    else:\n",
    "        print('Incorrect. You lose a life')\n",
    "        lives = lives - 1\n",
    "        \n",
    "if guesses_word_correctly:\n",
    "    print('You won! The secret word was ' + secret_word)\n",
    "else: \n",
    "    print('You lost! The secret word was' + secret_word)"
   ]
  },
  {
   "cell_type": "code",
   "execution_count": null,
   "id": "3290c092",
   "metadata": {},
   "outputs": [],
   "source": []
  }
 ],
 "metadata": {
  "kernelspec": {
   "display_name": "Python 3 (ipykernel)",
   "language": "python",
   "name": "python3"
  },
  "language_info": {
   "codemirror_mode": {
    "name": "ipython",
    "version": 3
   },
   "file_extension": ".py",
   "mimetype": "text/x-python",
   "name": "python",
   "nbconvert_exporter": "python",
   "pygments_lexer": "ipython3",
   "version": "3.9.7"
  }
 },
 "nbformat": 4,
 "nbformat_minor": 5
}
