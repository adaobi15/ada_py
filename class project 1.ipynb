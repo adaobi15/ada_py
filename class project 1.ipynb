{
 "cells": [
  {
   "cell_type": "code",
   "execution_count": 1,
   "id": "1e4e132b",
   "metadata": {},
   "outputs": [
    {
     "name": "stdout",
     "output_type": "stream",
     "text": [
      "The value of Karo after swapping: 30\n",
      "The value of Oyinda after swapping: 29\n"
     ]
    }
   ],
   "source": [
    "# Python program to swap two variables\n",
    "\n",
    "Karo = 29\n",
    "Oyinda = 30\n",
    "\n",
    "# To take inputs from the user\n",
    "#Karo = input('Enter value of Karo: ')\n",
    "#OYinda = input('Enter value of Oyinda: ')\n",
    "\n",
    "# create a temporary variable and swap the values\n",
    "temp = Karo\n",
    "Karo = Oyinda\n",
    "Oyinda = temp\n",
    "\n",
    "print('The value of Karo after swapping: {}'.format(Karo))\n",
    "print('The value of Oyinda after swapping: {}'.format(Oyinda))"
   ]
  },
  {
   "cell_type": "code",
   "execution_count": 1,
   "id": "dd18f81d",
   "metadata": {},
   "outputs": [
    {
     "name": "stdout",
     "output_type": "stream",
     "text": [
      "karol = 30\n",
      "oyinda =29\n"
     ]
    }
   ],
   "source": [
    "karol = 29\n",
    "oyinda = 30\n",
    "\n",
    "c = karol\n",
    "karol = oyinda\n",
    "oyinda = c\n",
    "\n",
    "\n",
    "print('karol = ' + str(karol))\n",
    "print('oyinda =' + str(oyinda))"
   ]
  },
  {
   "cell_type": "code",
   "execution_count": 2,
   "id": "cddd88b1",
   "metadata": {},
   "outputs": [
    {
     "name": "stdout",
     "output_type": "stream",
     "text": [
      "karo: 30\n",
      "oyinda: 29\n",
      "karo =29\n",
      "oyinda =30\n"
     ]
    }
   ],
   "source": [
    "karo = input(\"karo: \")\n",
    "oyinda = input(\"oyinda: \")\n",
    "\n",
    "print('karo =' + str(oyinda))\n",
    "print('oyinda =' + str(karo))\n"
   ]
  },
  {
   "cell_type": "code",
   "execution_count": null,
   "id": "4b0fe673",
   "metadata": {},
   "outputs": [],
   "source": []
  }
 ],
 "metadata": {
  "kernelspec": {
   "display_name": "Python 3 (ipykernel)",
   "language": "python",
   "name": "python3"
  },
  "language_info": {
   "codemirror_mode": {
    "name": "ipython",
    "version": 3
   },
   "file_extension": ".py",
   "mimetype": "text/x-python",
   "name": "python",
   "nbconvert_exporter": "python",
   "pygments_lexer": "ipython3",
   "version": "3.9.7"
  }
 },
 "nbformat": 4,
 "nbformat_minor": 5
}
