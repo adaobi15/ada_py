{
 "cells": [
  {
   "cell_type": "code",
   "execution_count": 2,
   "id": "de898a55",
   "metadata": {},
   "outputs": [
    {
     "ename": "SyntaxError",
     "evalue": "invalid syntax (Temp/ipykernel_428/1805251227.py, line 7)",
     "output_type": "error",
     "traceback": [
      "\u001b[1;36m  File \u001b[1;32m\"C:\\Users\\adaobi\\AppData\\Local\\Temp/ipykernel_428/1805251227.py\"\u001b[1;36m, line \u001b[1;32m7\u001b[0m\n\u001b[1;33m    if (country_code == 'US') {\u001b[0m\n\u001b[1;37m                              ^\u001b[0m\n\u001b[1;31mSyntaxError\u001b[0m\u001b[1;31m:\u001b[0m invalid syntax\n"
     ]
    }
   ],
   "source": [
    "# get the country code\n",
    "\n",
    "country_code = get_country_code(_SERVER['REMOTE_ADDR']);\n",
    "\n",
    "# if country code is US\n",
    "\n",
    "if (country_code == 'US') {\n",
    "    \n",
    "    # display the form input for state\n",
    "    \n",
    "    print (\"You are from the United States of America\")}"
   ]
  }
 ],
 "metadata": {
  "kernelspec": {
   "display_name": "Python 3 (ipykernel)",
   "language": "python",
   "name": "python3"
  },
  "language_info": {
   "codemirror_mode": {
    "name": "ipython",
    "version": 3
   },
   "file_extension": ".py",
   "mimetype": "text/x-python",
   "name": "python",
   "nbconvert_exporter": "python",
   "pygments_lexer": "ipython3",
   "version": "3.9.7"
  }
 },
 "nbformat": 4,
 "nbformat_minor": 5
}
